{
 "cells": [
  {
   "cell_type": "code",
   "execution_count": 1,
   "id": "582ecbdf-5b13-47cc-ade6-c1821dd98a8e",
   "metadata": {},
   "outputs": [],
   "source": [
    "import pandas as pd\n",
    "import numpy as np\n",
    "import matplotlib.pyplot as plt"
   ]
  },
  {
   "cell_type": "code",
   "execution_count": 22,
   "id": "f50b85bc-dce9-4060-8881-647594381767",
   "metadata": {},
   "outputs": [],
   "source": [
    "filename = 'extract_10k'\n",
    "\n",
    "\n",
    "df = pd.read_csv(filename + '.csv')\n",
    "df = df[ ['GzipPath', 'Mean', 'Error', 'StdDev', 'Allocated']]\n",
    "# df = df[ ['GzipPath', 'Mean', 'Error', 'StdDev']]\n",
    "df = df.replace(',','', regex=True)\n",
    "\n",
    "df['GzipPath'] = df['GzipPath'].to_numpy()\n",
    "# df['GzipPath'] = df['GzipPath'].map(lambda x: x.rstrip('.gz')).to_numpy()\n",
    "df['Mean'] = df['Mean'].map(lambda x: x.rstrip(' ms')).to_numpy()\n",
    "df['Error'] = df['Error'].map(lambda x: x.rstrip(' ms')).to_numpy()\n",
    "df['StdDev'] = df['StdDev'].map(lambda x: x.rstrip(' ms')).to_numpy()\n",
    "df['Allocated'] = df['Allocated'].map(lambda x: x.rstrip(' KB')).to_numpy()\n",
    "\n",
    "c = df.select_dtypes(object).columns\n",
    "df[c] = df[c].apply(pd.to_numeric,errors='coerce')\n",
    "\n",
    "df = df.sort_values(by=['GzipPath'])\n",
    "df['GzipPath'] = df['GzipPath'].apply(str)\n",
    "\n",
    "\n",
    "df = df.replace(\"48000\", \"8 MB\")\n",
    "df = df.replace(\"96000\", \"16 MB\")\n",
    "df = df.replace(\"192000\", \"32 MB\")\n",
    "df = df.replace(\"384000\", \"64 MB\")\n",
    "df = df.replace(\"768000\", \"128 MB\")\n",
    "df = df.replace(\"1536000\", \"256 MB\")\n",
    "df = df.replace(\"3072000\", \"513 MB\")\n",
    "df = df.replace(\"6144000\", \"1.03 GB\")\n",
    "df = df.replace(\"12288000\", \"2.06 GB\")\n",
    "df = df.replace(\"24576000\", \"4.11 GB\")\n",
    "df = df.replace(\"49152000\", \"8.24 GB\")\n",
    "df = df.replace(\"98304000\", \"16.49 GB\")\n",
    "df = df.replace(\"196608000\", \"32.99 GB\")\n",
    "\n",
    "df = df.rename({'GzipPath': 'File Size', 'Allocated': 'Allocated Memory'}, axis='columns')\n",
    "\n",
    "df.to_csv(filename + '_processed.csv', index=False)  "
   ]
  },
  {
   "cell_type": "code",
   "execution_count": 6,
   "id": "0f90528e-91f0-414d-875f-5eb813a29081",
   "metadata": {},
   "outputs": [],
   "source": []
  },
  {
   "cell_type": "code",
   "execution_count": null,
   "id": "d3de7075-702b-4062-a6be-78db2defbe77",
   "metadata": {},
   "outputs": [],
   "source": []
  }
 ],
 "metadata": {
  "kernelspec": {
   "display_name": "Python 3 (ipykernel)",
   "language": "python",
   "name": "python3"
  },
  "language_info": {
   "codemirror_mode": {
    "name": "ipython",
    "version": 3
   },
   "file_extension": ".py",
   "mimetype": "text/x-python",
   "name": "python",
   "nbconvert_exporter": "python",
   "pygments_lexer": "ipython3",
   "version": "3.11.3"
  }
 },
 "nbformat": 4,
 "nbformat_minor": 5
}
